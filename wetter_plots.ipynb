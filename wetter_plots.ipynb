{
 "cells": [
  {
   "cell_type": "markdown",
   "metadata": {},
   "source": [
    "## Change Header in CSV file"
   ]
  },
  {
   "cell_type": "markdown",
   "metadata": {},
   "source": [
    "Change Header in CSV File"
   ]
  },
  {
   "cell_type": "code",
   "execution_count": 6,
   "metadata": {
    "collapsed": true
   },
   "outputs": [],
   "source": [
    "import pandas as pd\n",
    "import glob\n",
    "import os\n",
    "import csv\n",
    "\n",
    "# CHANGE HEADER OF EACH CSV FILE IN FOLDER\n",
    "\n",
    "# KIS WEATHER STATION DATA\n",
    "path_to_raw_kis=r'C:\\Users\\Elisabeth.Verwuester\\Documents\\LIFE\\00_Dachgarten_Berechnungen\\wetter_daten\\KIS_StadtLaborGraz\\HMW_raw_data'\n",
    "kis_header='Timestamp_HMW,Temperature_Celsius,,Relative_Humidity,,Pressure_HPa,,Wind_Speed_m_per_s,,Wind_Direction,,Rain_Vol_L,,Rain_Hi_mm,,\\n'\n",
    "\n",
    "# GOVEE SMART SENSOR DATA\n",
    "path_to_raw_smart=r'C:\\Users\\Elisabeth.Verwuester\\Documents\\LIFE\\00_Dachgarten_Berechnungen\\wetter_daten\\GOVEE_Daten\\HMW'\n",
    "smart_header='Timestamp_HMW,Temperature_Celsius,Relative_Humidity\\n'\n",
    "\n",
    "\n",
    "def heading(path, header):\n",
    "    with open(path, 'rt', encoding='utf-8-sig') as f:\n",
    "        lines = f.readlines()\n",
    "        lines[0]=header\n",
    "    with open(path, 'wt', encoding='utf-8-sig') as f:\n",
    "        f.writelines(lines)\n",
    "    return path\n",
    "\n",
    "for filename in os.listdir(path_to_raw_kis):\n",
    "    filepath = os.path.join(path_to_raw_kis, filename)\n",
    "    heading(filepath, kis_header)\n",
    "\n",
    "for filename in os.listdir(path_to_raw_smart):\n",
    "    filepath = os.path.join(path_to_raw_smart, filename)\n",
    "    heading(filepath, smart_header)\n",
    "\n",
    "# CHANGE SEPARATOR IN CSV FILE\n",
    "reader=list(csv.reader(open(os.path.join(path_to_raw_kis, 'test.csv'), 'r', newline=None), delimiter=';'))\n",
    "writer=csv.writer(open(os.path.join(path_to_raw_kis, 'test.csv'), 'w'), delimiter=',')\n",
    "writer.writerows(row for row in reader)\n",
    "\n",
    "# # CHANGE SEPARATOR FORMAT\n",
    "#with open(r'C:\\Users\\Elisabeth.Verwuester\\Documents\\LIFE\\00_Dachgarten_Berechnungen\\wetter_daten\\KIS_StadtLaborGraz\\Juli_HMW_raw.csv','rt', encoding='utf-8-sig') as fin:\n",
    "#    with open(r'C:\\Users\\Elisabeth.Verwuester\\Documents\\LIFE\\00_Dachgarten_Berechnungen\\wetter_daten\\KIS_StadtLaborGraz\\Juli_HMW.csv', 'wt') as fout:\n",
    "#        for line in fin:\n",
    "#            fout.write(line.replace(';', ',').replace(',,', ','))\n"
   ]
  },
  {
   "cell_type": "markdown",
   "metadata": {},
   "source": [
    "Creating Data Frames"
   ]
  },
  {
   "cell_type": "code",
   "execution_count": 5,
   "metadata": {},
   "outputs": [
    {
     "name": "stdout",
     "output_type": "stream",
     "text": [
      "                                       Timestamp_HMW  Temperature_Celsius  \\\n",
      "0  01.08.2022 00:00;19.904;;64.306;;973.336;;0.53...                  NaN   \n",
      "1  01.08.2022 00:30;19.783;;64.363;;973.199;;0.44...                  NaN   \n",
      "2  01.08.2022 01:00;19.558;;65.605;;973.17;;0.591...                  NaN   \n",
      "3  01.08.2022 01:30;19.174;;66.838;;972.997;;0.56...                  NaN   \n",
      "4  01.08.2022 02:00;18.948;;67.975;;972.786;;0.86...                  NaN   \n",
      "\n",
      "   Unnamed: 2  Relative_Humidity  Unnamed: 4  Pressure_HPa  Unnamed: 6  \\\n",
      "0         NaN                NaN         NaN           NaN         NaN   \n",
      "1         NaN                NaN         NaN           NaN         NaN   \n",
      "2         NaN                NaN         NaN           NaN         NaN   \n",
      "3         NaN                NaN         NaN           NaN         NaN   \n",
      "4         NaN                NaN         NaN           NaN         NaN   \n",
      "\n",
      "   Wind_Speed_m_per_s  Unnamed: 8  Wind_Direction  Unnamed: 10  Rain_Vol_L  \\\n",
      "0                 NaN         NaN             NaN          NaN         NaN   \n",
      "1                 NaN         NaN             NaN          NaN         NaN   \n",
      "2                 NaN         NaN             NaN          NaN         NaN   \n",
      "3                 NaN         NaN             NaN          NaN         NaN   \n",
      "4                 NaN         NaN             NaN          NaN         NaN   \n",
      "\n",
      "   Unnamed: 12  Rain_Hi_mm  Unnamed: 14  Unnamed: 15  \n",
      "0          NaN         NaN          NaN          NaN  \n",
      "1          NaN         NaN          NaN          NaN  \n",
      "2          NaN         NaN          NaN          NaN  \n",
      "3          NaN         NaN          NaN          NaN  \n",
      "4          NaN         NaN          NaN          NaN  \n",
      "Timestamp_HMW           object\n",
      "Temperature_Celsius    float64\n",
      "Unnamed: 2             float64\n",
      "Relative_Humidity      float64\n",
      "Unnamed: 4             float64\n",
      "Pressure_HPa           float64\n",
      "Unnamed: 6             float64\n",
      "Wind_Speed_m_per_s     float64\n",
      "Unnamed: 8             float64\n",
      "Wind_Direction         float64\n",
      "Unnamed: 10            float64\n",
      "Rain_Vol_L             float64\n",
      "Unnamed: 12            float64\n",
      "Rain_Hi_mm             float64\n",
      "Unnamed: 14            float64\n",
      "Unnamed: 15            float64\n",
      "dtype: object\n"
     ]
    }
   ],
   "source": [
    "import pandas as pd\n",
    "import matplotlib.pyplot as plt\n",
    "import matplotlib.dates as mdates\n",
    "from matplotlib.dates import DateFormatter\n",
    "import datetime\n",
    "import glob\n",
    "import os\n",
    "\n",
    "\n",
    "path_to_raw = r'C:\\Users\\Elisabeth.Verwuester\\Documents\\LIFE\\00_Dachgarten_Berechnungen\\wetter_daten\\KIS_StadtLaborGraz\\HMW_raw_data'\n",
    "\n",
    "\n",
    "\n",
    "\n",
    "\n",
    "# JOIN ALL FILES IN HMW FOLDER\n",
    "joined_files= os.path.join(path_to_raw, '*.csv')\n",
    "joined_list = glob.glob(joined_files)\n",
    "\n",
    "df_kis = pd.concat(map(pd.read_csv, joined_list))\n",
    "\n",
    "\n",
    "print(df_kis.head())\n",
    "print(df_kis.dtypes)\n",
    "\n",
    "\n",
    "\n",
    "\n",
    "\n",
    "# CREATION OF DATA FRAME\n",
    "#df_kis = pd.read_csv(kis_file, sep=',')\n",
    "# SETTING TIMESTAMP TO PROPER FORMAT AND AS INDEX\n",
    "#df_kis['Timestamp_HMW']=pd.to_datetime(df_kis['Timestamp_HMW'])\n",
    "#df_kis.set_index('Timestamp_HMW', inplace=True)\n",
    "#df_kis['Wind_Speed_m_per_s']=pd.to_numeric(df_kis['Wind_Speed_m_per_s'])\n",
    "#df_kis.Wind_Speed_m_per_s=pd.to_numeric(df_kis.Wind_Speed_m_per_s)\n",
    "\n",
    "# missing rain and wind data due to type error\n",
    "\n",
    "\n",
    "\n",
    "\n",
    "\n"
   ]
  },
  {
   "cell_type": "markdown",
   "metadata": {},
   "source": [
    "PLOTTING"
   ]
  },
  {
   "cell_type": "code",
   "execution_count": null,
   "metadata": {},
   "outputs": [],
   "source": [
    "#gggg\n",
    "# PLOTTING\n",
    "\n",
    "    \n",
    " # TEMPERATURE  \n",
    "  \n",
    "date_form=DateFormatter(\"%y-%m-%d\")\n",
    "fig, ax = plt.subplots(figsize=(12,12))\n",
    "ax = df_kis['Temperature_Celsius'].plot()\n",
    "ax.xaxis.set_major_formatter(date_form)\n",
    "ax.set_xlim([datetime.date(2022,6,27), datetime.date(2022,8,1)])\n",
    "\n",
    "    # RAIN\n",
    "    # fig, ax2 = plt.subplots()\n",
    "    # df_kis['Rain_Hi_mm'].plot(label='kis')\n",
    "    # ax2.xaxis.set_major_formatter(date_form)\n",
    "    # ax2.set_xlim([datetime.date(2022,6,27), datetime.date(2022,8,1)])\n",
    "    # ax2.set_ylabel('rain [mm]')\n",
    "    # ax2.set_title('kis rain high')\n",
    "\n",
    "    # fig, ax3 = plt.subplots()\n",
    "    # df_kis['Rain_Vol_L'].plot(label='kis')\n",
    "    # ax3.xaxis.set_major_formatter(date_form)\n",
    "    # ax3.set_xlim([datetime.date(2022,6,27), datetime.date(2022,8,1)])\n",
    "    # ax3.set_ylabel('rain')\n",
    "    # ax3.set_title('kis')\n",
    "\n",
    "    #plt.show()\n",
    "\n"
   ]
  }
 ],
 "metadata": {
  "kernelspec": {
   "display_name": "Python 3.9.12 ('base')",
   "language": "python",
   "name": "python3"
  },
  "language_info": {
   "codemirror_mode": {
    "name": "ipython",
    "version": 3
   },
   "file_extension": ".py",
   "mimetype": "text/x-python",
   "name": "python",
   "nbconvert_exporter": "python",
   "pygments_lexer": "ipython3",
   "version": "3.9.12"
  },
  "vscode": {
   "interpreter": {
    "hash": "f753b806f07f6e810916c4cb4eabffd989800ab424cd7124f110dfcbe1420b26"
   }
  }
 },
 "nbformat": 4,
 "nbformat_minor": 0
}
